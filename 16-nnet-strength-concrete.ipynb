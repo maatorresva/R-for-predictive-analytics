{
 "cells": [
  {
   "cell_type": "markdown",
   "metadata": {},
   "source": [
    "Predicción de la resistencia del concreto\n",
    "===\n",
    "\n",
    "**Juan David Velásquez Henao**  \n",
    "jdvelasq@unal.edu.co   \n",
    "Universidad Nacional de Colombia, Sede Medellín  \n",
    "Facultad de Minas  \n",
    "Medellín, Colombia\n",
    "\n",
    "---\n",
    "\n",
    "Haga click [aquí](https://github.com/jdvelasq/R-for-predictive-analytics/blob/master/15-neuralnet-strength-concrete.ipynb) para acceder a la última versión online.\n",
    "\n",
    "Haga click [aquí](http://nbviewer.jupyter.org/github/jdvelasq/R-for-predictive-analytics/blob/master/15-neuralnet-strength-concrete.ipynb) para ver la última versión online en `nbviewer`. \n",
    "\n",
    "---\n",
    "[Licencia](https://github.com/jdvelasq/R-for-predictive-analytics/blob/master/LICENSE)  \n",
    "[Readme](https://github.com/jdvelasq/R-for-predictive-analytics/blob/master/readme.md)"
   ]
  },
  {
   "cell_type": "markdown",
   "metadata": {},
   "source": [
    "# Definición del problema real"
   ]
  },
  {
   "cell_type": "markdown",
   "metadata": {},
   "source": [
    "El concreto es uno de los materiales más usados en construcción. Es fabricado por la mezcla de varios elementos, la cual, al secarse, forma una masa dura muy resistente a la compresión. Uno de los principales problemas es que la mezcla puede demorarse varios meses en secar, y resulta particularmente importante el poder realizar pronósticos de la resistencia que alcanzará, tanto para fines de control como para verificar las restricciones de diseño.  "
   ]
  },
  {
   "cell_type": "markdown",
   "metadata": {},
   "source": [
    "# Definición del problema en términos de los datos"
   ]
  },
  {
   "cell_type": "markdown",
   "metadata": {},
   "source": [
    "La muestra contiene 1030 mediciones de concretos con ocho características que decriben los componentes usados en la mezcla. Se piensa que estas ocho características tienen una relación no lineal con la resistencia a la compresión final que tiene el concreto. El problema consiste en construir un modelo de regresión no lineal que permita pronósticar la resistencia del concreto con base en ellas. \n",
    "\n",
    "* Cement (component 1) -- quantitative -- kg in a m3 mixture -- Input Variable \n",
    "\n",
    "\n",
    "* Bla st Furnace Slag (component 2) -- quantitative -- kg in a m3 mixture -- Input Variable \n",
    "\n",
    "\n",
    "* Fly Ash (component 3) -- quantitative -- kg in a m3 mixture -- Input Variable \n",
    "  \n",
    "  \n",
    "* Water (component 4) -- quantitative -- kg in a m3 mixture -- Input Variable \n",
    "  \n",
    "  \n",
    "* Superplasticizer (component 5) -- quantitative -- kg in a m3 mixture -- Input Variable \n",
    "\n",
    "\n",
    "* Coarse Aggregate (component 6) -- quantitative -- kg in a m3 mixture -- Input Variable \n",
    "\n",
    "\n",
    "* Fine Aggregate (component 7)\t-- quantitative -- kg in a m3 mixture -- Input Variable \n",
    "\n",
    "\n",
    "* Age -- quantitative -- Day (1~365) -- Input Variable \n",
    "\n",
    "\n",
    "* Concrete compressive strength -- quantitative -- MPa -- Output Variable "
   ]
  },
  {
   "cell_type": "markdown",
   "metadata": {},
   "source": [
    "# Exploración"
   ]
  },
  {
   "cell_type": "code",
   "execution_count": null,
   "metadata": {},
   "outputs": [],
   "source": [
    "## Carga de los datos\n",
    "concrete <- read.csv(\"data/concrete.csv\")\n",
    "str(concrete)\n",
    "## Todas las variables son numéricas"
   ]
  },
  {
   "cell_type": "code",
   "execution_count": null,
   "metadata": {},
   "outputs": [],
   "source": [
    "##\n",
    "## Información relevante de la resistencia\n",
    "##\n",
    "summary(concrete$strength)"
   ]
  },
  {
   "cell_type": "code",
   "execution_count": null,
   "metadata": {
    "collapsed": true
   },
   "outputs": [],
   "source": [
    "## Se escalan todas las variables al rango [0, 1]\n",
    "## para evitar problemas asociados a la escala\n",
    "normalize <- function(x) {\n",
    "    return((x - min(x)) / (max(x) - min(x)))\n",
    "}\n",
    "\n",
    "concrete_norm <- as.data.frame(lapply(concrete, normalize))"
   ]
  },
  {
   "cell_type": "code",
   "execution_count": null,
   "metadata": {},
   "outputs": [],
   "source": [
    "## Se revisan algunas variables del data.frame\n",
    "summary(concrete_norm$strength)"
   ]
  },
  {
   "cell_type": "code",
   "execution_count": null,
   "metadata": {},
   "outputs": [],
   "source": [
    "summary(concrete_norm$age)"
   ]
  },
  {
   "cell_type": "markdown",
   "metadata": {},
   "source": [
    "# Metodología"
   ]
  },
  {
   "cell_type": "markdown",
   "metadata": {},
   "source": [
    "Una red neuronal artificial es un modelo matemático de regresión no lineal inspirado en las redes de neuronas del cerebro. Una neurona esta representada matemáticamente como se indica en la siguiente figura."
   ]
  },
  {
   "cell_type": "markdown",
   "metadata": {},
   "source": [
    "![alt text](images/neurona.jpg)"
   ]
  },
  {
   "cell_type": "markdown",
   "metadata": {},
   "source": [
    "*  $x_1$, ..., $x_n$ representan las entradas a la neurona.\n",
    "\n",
    "\n",
    "* $w_0$, ..., $w_n$ representan los pesos ajustables (parámetros de la neurona).\n",
    "\n",
    "\n",
    "* $+1$ es una entrada unitaria.\n",
    "\n",
    "\n",
    "* $\\sigma()$ representa la función de activación de la neurona, que para este caso particular es la función logística, definida como:\n",
    "\n",
    "\n",
    "$$ \\sigma(u) = \\frac{1}{1+\\exp(-u)} $$\n",
    "\n",
    "\n",
    "De esta forma, el modelo matemático de una neurona es:\n",
    "\n",
    "$$y = \\sigma \\big(w_0 + \\sum_{i=1}^n w_i*x_i    \\big)$$\n",
    "\n",
    "Note que la parte entre paréntesis es equivalente a un modelo de regresión lineal, por lo que la neurona puede interpretarse matemáticamente como un modelo  de regresión no lineal."
   ]
  },
  {
   "cell_type": "markdown",
   "metadata": {},
   "source": [
    "Al unir varias neuronas, tal que las salidas de unas sean las entradas de otras, se pueden formar diferentes tipos de arquitecturas de redes neuronales. La más común es la red de propagación hacia adelante, en la que cada capa de neuronas se conecta con la siguiente. La figura de abajo presenta una arquitectura con dos entradas ($x_1$ y $x_2$), una capa oculta de procesamiento con dos neuronas y una variable de salida ($y$)."
   ]
  },
  {
   "cell_type": "markdown",
   "metadata": {},
   "source": [
    "![alt text](images/nnet.jpg)"
   ]
  },
  {
   "cell_type": "markdown",
   "metadata": {},
   "source": [
    "El modelo anterior es equivalente a la siguiente ecuación de regresión con $H=2$ e $I=2$:\n",
    "\n",
    "$$y = b_2 + \\sum_{h=1}^H w_2[h,1] * \\sigma \\Big( b_1[h] + \\sum_{i=1}^I w_1[i,h] * x_i \\Big)$$ "
   ]
  },
  {
   "cell_type": "markdown",
   "metadata": {},
   "source": [
    "**Ejercicio.--** Identifique los parámetros del modelo de regresión en el esquema ilustrativo de la red neuronal. "
   ]
  },
  {
   "cell_type": "markdown",
   "metadata": {},
   "source": [
    "Si se tiene un conjunto de ejemplos, el proceso de entrenamiento consiste en encontrar los parámetros de la red neuronal ($b_1[h]$, $b_2$, $w_1[i,h]$, $w_2[h,1]$, para $h$ = 1, ..., H, y $i$ = 1, ..., $I$, tal que se minimice alguna medida de error, tal como en el caso de la regresión linea. "
   ]
  },
  {
   "cell_type": "markdown",
   "metadata": {},
   "source": [
    "# Entrenamiento del modelo"
   ]
  },
  {
   "cell_type": "code",
   "execution_count": null,
   "metadata": {
    "collapsed": true
   },
   "outputs": [],
   "source": [
    "##\n",
    "## Se usa el 75% de los datos para entrenamiento\n",
    "##\n",
    "concrete_train <- concrete_norm[1:773, ]\n",
    "concrete_test <- concrete_norm[774:1030, ]"
   ]
  },
  {
   "cell_type": "code",
   "execution_count": null,
   "metadata": {
    "collapsed": true
   },
   "outputs": [],
   "source": [
    "## install.packages(\"neuralnet\")\n",
    "library(neuralnet)"
   ]
  },
  {
   "cell_type": "code",
   "execution_count": null,
   "metadata": {
    "collapsed": true
   },
   "outputs": [],
   "source": [
    "##\n",
    "## El modelo se especifica tal como en los \n",
    "## modelos de regresión lineal\n",
    "##\n",
    "concrete_model <- neuralnet(strength ~ cement + slag\n",
    "                            + ash + water + superplastic + \n",
    "                            coarseagg + fineagg + age, \n",
    "                            data = concrete_train)\n",
    "## por defecto, el modelo tiene una neurona en la capa oculta"
   ]
  },
  {
   "cell_type": "code",
   "execution_count": null,
   "metadata": {
    "collapsed": true
   },
   "outputs": [],
   "source": [
    "##\n",
    "## esta función no realiza la gráfica en jupyter!\n",
    "##\n",
    "options(repr.plot.width=10, repr.plot.height=6)\n",
    "plot(concrete_model) "
   ]
  },
  {
   "cell_type": "markdown",
   "metadata": {},
   "source": [
    "# Evaluación del modelo"
   ]
  },
  {
   "cell_type": "code",
   "execution_count": null,
   "metadata": {
    "scrolled": true
   },
   "outputs": [],
   "source": [
    "##\n",
    "## Se analiza el entrenamiento\n",
    "## variable de salida\n",
    "##\n",
    "summary(concrete_train$strength)"
   ]
  },
  {
   "cell_type": "code",
   "execution_count": null,
   "metadata": {},
   "outputs": [],
   "source": [
    "##\n",
    "## pronóstico del modelo para la muestra de \n",
    "## entrenamiento\n",
    "##\n",
    "summary(unlist(concrete_model$net.result))"
   ]
  },
  {
   "cell_type": "code",
   "execution_count": null,
   "metadata": {
    "scrolled": false
   },
   "outputs": [],
   "source": [
    "##\n",
    "## si el pronóstico es perfecto, los puntos\n",
    "## deben estar sobre la linea a 45 grados.\n",
    "##\n",
    "plot(concrete_train$strength, \n",
    "     unlist(concrete_model$net.result),\n",
    "     xlim=c(0,1),\n",
    "     ylim=c(0,1))\n",
    "abline(a=0,b=1, col='red', lwd=2)"
   ]
  },
  {
   "cell_type": "code",
   "execution_count": null,
   "metadata": {},
   "outputs": [],
   "source": [
    "##\n",
    "## evaluación de la muestra de prueba\n",
    "##\n",
    "model_results <- compute(concrete_model, concrete_test[1:8])\n",
    "predicted_strength <- model_results$net.result\n",
    "cor(predicted_strength, concrete_test$strength)"
   ]
  },
  {
   "cell_type": "code",
   "execution_count": null,
   "metadata": {
    "collapsed": true
   },
   "outputs": [],
   "source": [
    "##\n",
    "## se define el error medio absoluto\n",
    "##\n",
    "MAE <- function(actual, predicted) {\n",
    "    mean(abs(actual - predicted))\n",
    "}"
   ]
  },
  {
   "cell_type": "code",
   "execution_count": null,
   "metadata": {},
   "outputs": [],
   "source": [
    "MAE(predicted_strength, concrete_test$strength)"
   ]
  },
  {
   "cell_type": "code",
   "execution_count": null,
   "metadata": {},
   "outputs": [],
   "source": [
    "##\n",
    "## si el pronóstico es perfecto, los puntos\n",
    "## deben estar sobre la linea a 45 grados.\n",
    "##\n",
    "plot(concrete_test$strength, \n",
    "     predicted_strength,\n",
    "     xlim=c(0,1),\n",
    "     ylim=c(0,1))\n",
    "abline(a=0,b=1, col='red', lwd=2)"
   ]
  },
  {
   "cell_type": "markdown",
   "metadata": {},
   "source": [
    "# Mejora del modelo"
   ]
  },
  {
   "cell_type": "code",
   "execution_count": null,
   "metadata": {
    "collapsed": true
   },
   "outputs": [],
   "source": [
    "concrete_model2 <- neuralnet(strength ~ cement + slag +\n",
    "                               ash + water + superplastic +\n",
    "                               coarseagg + fineagg + age,\n",
    "                               data = concrete_train, \n",
    "                             hidden = 5) # cantidad de neuronas en la capa oculta"
   ]
  },
  {
   "cell_type": "code",
   "execution_count": null,
   "metadata": {},
   "outputs": [],
   "source": [
    "##\n",
    "## si el pronóstico es perfecto, los puntos\n",
    "## deben estar sobre la linea a 45 grados.\n",
    "## Note que el pronóstico es mucho mejor\n",
    "## que en el caso anterior.\n",
    "##\n",
    "plot(concrete_train$strength, \n",
    "     unlist(concrete_model2$net.result),\n",
    "     xlim=c(0,1),\n",
    "     ylim=c(0,1))\n",
    "abline(a=0,b=1, col='red', lwd=2)"
   ]
  },
  {
   "cell_type": "code",
   "execution_count": null,
   "metadata": {
    "collapsed": true
   },
   "outputs": [],
   "source": [
    "##\n",
    "## no genera la gráfica en jupyter!\n",
    "##\n",
    "plot(concrete_model2)"
   ]
  },
  {
   "cell_type": "code",
   "execution_count": null,
   "metadata": {},
   "outputs": [],
   "source": [
    "model_results2 <- compute(concrete_model2, concrete_test[1:8])\n",
    "predicted_strength2 <- model_results2$net.result\n",
    "cor(predicted_strength2, concrete_test$strength)"
   ]
  },
  {
   "cell_type": "code",
   "execution_count": null,
   "metadata": {
    "scrolled": false
   },
   "outputs": [],
   "source": [
    "##\n",
    "## compare esta gráfica con la original\n",
    "##\n",
    "plot(concrete_test$strength, \n",
    "     predicted_strength2,\n",
    "     xlim=c(0,1),\n",
    "     ylim=c(0,1))\n",
    "abline(a=0,b=1, col='red', lwd=2)"
   ]
  },
  {
   "cell_type": "markdown",
   "metadata": {},
   "source": [
    "**Ejercicio.--** Realice la estimación de este modelo usando cross-validation."
   ]
  },
  {
   "cell_type": "markdown",
   "metadata": {},
   "source": [
    "---"
   ]
  },
  {
   "cell_type": "markdown",
   "metadata": {},
   "source": [
    "Predicción de la resistencia del concreto\n",
    "===\n",
    "\n",
    "**Juan David Velásquez Henao**  \n",
    "jdvelasq@unal.edu.co   \n",
    "Universidad Nacional de Colombia, Sede Medellín  \n",
    "Facultad de Minas  \n",
    "Medellín, Colombia\n",
    "\n",
    "---\n",
    "\n",
    "Haga click [aquí](https://github.com/jdvelasq/R-for-predictive-analytics/blob/master/15-neuralnet-strength-concrete.ipynb) para acceder a la última versión online.\n",
    "\n",
    "Haga click [aquí](http://nbviewer.jupyter.org/github/jdvelasq/R-for-predictive-analytics/blob/master/15-neuralnet-strength-concrete.ipynb) para ver la última versión online en `nbviewer`. \n",
    "\n",
    "---\n",
    "[Licencia](https://github.com/jdvelasq/R-for-predictive-analytics/blob/master/LICENSE)  \n",
    "[Readme](https://github.com/jdvelasq/R-for-predictive-analytics/blob/master/readme.md)"
   ]
  }
 ],
 "metadata": {
  "kernel_info": {
   "name": "python3"
  },
  "kernelspec": {
   "display_name": "R",
   "language": "R",
   "name": "ir"
  },
  "language_info": {
   "codemirror_mode": "r",
   "file_extension": ".r",
   "mimetype": "text/x-r-source",
   "name": "R",
   "pygments_lexer": "r",
   "version": "3.4.4"
  },
  "nteract": {
   "version": "0.7.1"
  },
  "varInspector": {
   "cols": {
    "lenName": 16,
    "lenType": 16,
    "lenVar": 40
   },
   "kernels_config": {
    "python": {
     "delete_cmd_postfix": "",
     "delete_cmd_prefix": "del ",
     "library": "var_list.py",
     "varRefreshCmd": "print(var_dic_list())"
    },
    "r": {
     "delete_cmd_postfix": ") ",
     "delete_cmd_prefix": "rm(",
     "library": "var_list.r",
     "varRefreshCmd": "cat(var_dic_list()) "
    }
   },
   "types_to_exclude": [
    "module",
    "function",
    "builtin_function_or_method",
    "instance",
    "_Feature"
   ],
   "window_display": false
  }
 },
 "nbformat": 4,
 "nbformat_minor": 2
}
