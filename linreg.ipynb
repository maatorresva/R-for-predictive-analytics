{
 "cells": [
  {
   "cell_type": "markdown",
   "metadata": {},
   "source": [
    "Regresión Lineal\n",
    "===\n",
    "\n",
    "**Juan David Velásquez Henao**  \n",
    "jdvelasq@unal.edu.co   \n",
    "Universidad Nacional de Colombia, Sede Medellín  \n",
    "Facultad de Minas  \n",
    "Medellín, Colombia\n",
    "\n",
    "---"
   ]
  },
  {
   "cell_type": "markdown",
   "metadata": {},
   "source": [
    "# Definición del problema real"
   ]
  },
  {
   "cell_type": "markdown",
   "metadata": {},
   "source": [
    "Uno de los problemas fundamentales en *customer analytics* es el pronóstico del consumo del cliente a partir de información histórica con el fin de tomar decisiones relacionada con políticas como planes de fidelización. "
   ]
  },
  {
   "cell_type": "markdown",
   "metadata": {},
   "source": [
    "# Definición del problema en términos de los datos"
   ]
  },
  {
   "cell_type": "markdown",
   "metadata": {},
   "source": [
    "Se desea construir un modelo que permita pronósticar el valor de $y$ a partir del valor de $x$. Se tiene un conjunto de 30 observaciones para construir el modelo de pronóstico. La información recolectada es la siguiente:\n",
    "\n",
    "     #       x       y\n",
    "    --------------------\n",
    "     1   -2.22   -4.69\n",
    "     2   -1.50   -2.94\n",
    "     3   -1.37   -1.67\n",
    "     4   -0.88   -1.10\n",
    "     5   -0.73   -0.19\n",
    "     6   -0.67   -1.29\n",
    "     7   -0.66   -1.06\n",
    "     8   -0.60    9.43\n",
    "     9   -0.30    0.52\n",
    "    10   -0.18   -1.03\n",
    "    11   -0.15    0.26\n",
    "    12   -0.16    0.64\n",
    "    13   -0.14   -0.49\n",
    "    14   -0.02    0.42\n",
    "    15    0.18    7.92\n",
    "    16    0.65    0.47\n",
    "    17    0.66    1.11\n",
    "    18    0.73    6.58\n",
    "    19    0.81    1.43\n",
    "    20    0.90    0.85\n",
    "    21    0.92    1.31\n",
    "    22    0.97    1.49\n",
    "    23    1.03    1.11\n",
    "    24    1.29    2.23\n",
    "    25    1.41    1.17\n",
    "    26    1.56    2.40\n",
    "    27    1.79    2.05\n",
    "    28    1.93    3.48\n",
    "    29    2.10    2.95\n",
    "    30    2.45    4.68     \n",
    "     "
   ]
  },
  {
   "cell_type": "markdown",
   "metadata": {},
   "source": [
    "# Solución"
   ]
  },
  {
   "cell_type": "markdown",
   "metadata": {},
   "source": [
    "## Definición del modelo de regresión lineal"
   ]
  },
  {
   "cell_type": "markdown",
   "metadata": {},
   "source": [
    "En un modelo de regresión, la variable dependiente $y$ es una función lineal de las variables independientes $x$, tal que:\n",
    "\n",
    "\n",
    "$$y = w_0 + b * w_1 + e$$\n",
    "\n",
    "\n",
    "Donde: \n",
    "\n",
    "\n",
    "* $y$ es la variable explicada.\n",
    "\n",
    "\n",
    "* $x$ es la variable explicativa del comportamiento de $y$.\n",
    "\n",
    "\n",
    "* $w_0$ es el intercepto del modelo.\n",
    "\n",
    "\n",
    "* $w_1$ es el coeficiente de $x$.\n",
    "\n",
    "\n",
    "* $e$ es el error del modelo. Se parte del supuesto de que siguiendo una distribución normal con media cero y varianza $\\sigma^2$ constante y desconocida."
   ]
  },
  {
   "cell_type": "markdown",
   "metadata": {},
   "source": [
    "## Estimación"
   ]
  },
  {
   "cell_type": "markdown",
   "metadata": {},
   "source": [
    "En la siguiente figura se presenta de forma general la regresión de $y_i = e + w_0 + w_1 * x_i$ para $i$ = 1, ..., 5. Los puntos negros representan los datos (las observaciones), y la línea negra representa la ecuación de regresión. Las líneas rojas representan el error $e$ entre el valor observado de $y_i$ y el pronósticado por el modelo para cada valor  $x_i$. "
   ]
  },
  {
   "cell_type": "markdown",
   "metadata": {},
   "source": [
    "<img src=\"images/regxy.jpg\" width=300>"
   ]
  },
  {
   "cell_type": "markdown",
   "metadata": {},
   "source": [
    "La estimación de los parámetros $w_0$ y $w_1$ del modelo se realiza por mínimos cuadrados ordinarios (OLS), o lo que es lo mismo, minimizando la suma de los errores al cuadrado (SSE)\n",
    "\n",
    "$$\\text{SSE} = \\sum_{i=1}^N e_i^2$$\n",
    "\n",
    "Esto es, se deben encontrar los valores de $w_0$ y $w_1$ que minimicen:\n",
    "\n",
    "$$\\text{SSE} =\\sum_{i=1}^N (y_i - w_0 - w_1 x_i)^2$$\n",
    "\n",
    "para los $N$ puntos conocidos."
   ]
  },
  {
   "cell_type": "markdown",
   "metadata": {},
   "source": [
    "---\n",
    "**Ejercicio.--** Estime los parámetros del modelo de regresión usando Microsoft Excel.\n",
    "\n",
    "---"
   ]
  },
  {
   "cell_type": "markdown",
   "metadata": {},
   "source": [
    "## Diagnóstico"
   ]
  },
  {
   "cell_type": "markdown",
   "metadata": {},
   "source": [
    "En la especificación de un modelo se debe verificar lo siguiente:\n",
    "\n",
    "\n",
    "* Los parámetros del modelo $w_0$ y $w_1$ deben ser estadísticamente diferentes de cero.\n",
    "\n",
    "\n",
    "* La distribución de los errores $e$ debe ser normal.\n",
    "\n",
    "\n",
    "* La varianza de los errores $\\sigma^2$ debe ser constante.\n",
    "\n",
    "\n",
    "El no cumplimiento de estos supuestos indica que pueden haber problemas en la especificación del modelo."
   ]
  },
  {
   "cell_type": "markdown",
   "metadata": {},
   "source": [
    "A continuación se detallan los resultados obtenidos en Microsoft Excel."
   ]
  },
  {
   "cell_type": "markdown",
   "metadata": {},
   "source": [
    "**Estadísticas de la regresión.**\n",
    "\n",
    "              Estadísticas de la regresión\t\n",
    "    ---------------------------------------------\n",
    "     Coeficiente de correlación múltiple 0.5196\n",
    "     Coeficiente de determinación R^2    0.2700\n",
    "     R^2  ajustado                       0.2439\n",
    "     Error típico                        2.5773\n",
    "     Observaciones                      30\n",
    "\n",
    "El coeficiente de correlación $r$ mide la dependencia entre los movimientos de $x$ y $y$; un valor de $+1$ indica correlación perfecta positiva, mientras que un valor de $-1$ señala correlación perfecta negativa. Un valor de cero indica que no hay relación entre $x$ y $y$. Se define como:\n",
    "\n",
    "$$r=\\frac{\\sum_{i=1}^N  (x_i - \\bar{x}) (y_i - \\bar{y})} {(N-1)\\; s_X \\; s_Y}$$\n",
    "         \n",
    "         \n",
    "El coeficiente de determinación mide cuanta de la variación de $y$ es explicada por el modelo. Se calcula como:\n",
    "\n",
    "$$R^2 = 1 - \\frac{\\sigma_e^2}{\\sigma_y^2}$$\n",
    "\n",
    "Si la varianza de los errores o residuales $\\sigma_e^2$ es cero, el modelo explica el 100% de la variable $y$. Si $\\sigma_e^2$ es igual a la varianza de $y$ el modelo no explica nada y $R^2$ vale cero.\n",
    "\n",
    "El coeficiente de correlación ajustado $\\bar{R}^2$ corrige el valor de $R^2$ por la cantidad de variables $k$ (igual a 2 para el caso analizado) y la cantidad de datos $N$:\n",
    "\n",
    "$$R^2_{\\text{Ajustado}} = 1 - \\frac{N-1}{N-k-1}(1-R^2)$$\n"
   ]
  },
  {
   "cell_type": "markdown",
   "metadata": {},
   "source": [
    "**Análisis de varianza.**\n",
    "\n",
    "     ANÁLISIS DE VARIANZA\n",
    "     ---------------------------------------------------------------------\n",
    "             Grados de    Suma de    Promedio de        F  Valor crítico \n",
    "              libertad  cuadrados  los cuadrados                    de F\n",
    "     --------------------------------------------------------------------- \n",
    "      Regresión      1    68.7788        67.7788  10.3542         0.0033\n",
    "      Residuos      28   185.9930         6.6426\t\t\n",
    "      Total         29   254.7718\t\t\t\n",
    "     ---------------------------------------------------------------------\n",
    "     \n",
    "En esta tabla, es de particular interés el estadístico F. La hipótesis nula es que todos los parámetros del modelo ($w_0$ y $w_1$) son diferentes de cero, versus la hipótesis alterna en que se indica que al menos uno de ellos no es significativamente de cero.     \n",
    "     "
   ]
  },
  {
   "cell_type": "markdown",
   "metadata": {},
   "source": [
    "**Coeficientes de la regresión.**\n",
    "\n",
    "    ------------------------------------------------------------\n",
    "\t           Coeficientes    Error  Estadístico  Probabilidad\n",
    "                              típico            t\n",
    "    ------------------------------------------------------------\n",
    "     Intercepción    0.8303   0.4898       1.6951         0.1012\n",
    "     x               1.3478   0.4188       3.2178         0.0033\n",
    "    ------------------------------------------------------------\n",
    "    \n",
    "En esta fase se verifica los coeficientes sean significativamente diferentes de cero. Ya que el valor esperado de cada parámetro $w_i$ es desconocido, se verifica contra el supuesto de que su valor sea cero; así, se plantea la siguiente prueba de hipótesis:\n",
    "\n",
    "* $H_0$: $w_i=0$\n",
    "* $H_a$: $w_i \\ne 0$\n",
    "\n",
    "suponiendo que la distribución de $w_i$ es normal. Ya que en la práctica hay pocos datos, se reemplaza la normal por una t de Student. La última columna representa la probabilidad de que el valor del parámetro sea cero; es decir, es una prueba de hipótesis usando valores-$p$.\n",
    "\n",
    "Para los resultados obtenidos, se observa que solo $x_1$ tiene un valor significativamente diferente de cero; sin embargo, el resultado puede estar viciado por la presencia de outliers."
   ]
  },
  {
   "cell_type": "markdown",
   "metadata": {},
   "source": [
    "**Análisis de los residuales.**"
   ]
  },
  {
   "cell_type": "markdown",
   "metadata": {},
   "source": [
    "<img src=\"images/09-linreg-residuales.jpg\" width=800>"
   ]
  },
  {
   "cell_type": "markdown",
   "metadata": {},
   "source": [
    "En la gráfica anterior se presentan los residuales obtenidos para el modelo. En la parte izquierda se grafican los residuales versus el valor de $x$. Se observan tres residuales con valores positivos muy grandes en comparación con el resto de la muestra. Estos pueden indicar observaiones atípicas.\n",
    "\n",
    "En la gráfica central se observa como el pronóstico (línea roja) se ajusta con cierta precisión a los datos observados, excepto por los tres posibles outliers que aparecen en la parte superior.\n",
    "\n",
    "La figura derecha presenta el gráfico cuartil-cuartil para los residuales y una distribución normal. Si los residuales siguen una distribución normal, la secuencia de puntos forman aproximadamente una línea recta. Nótese que la la parte derecha de esta figura muestra que los últimos tres residuales son inusualemente grandes. En otras palabras, mientras que la parte izquierda de esta figura tiene valores cercanos a $-4$, la parte derecha tiene valores cercanos a $+10$, corroborando observaciones atípicas."
   ]
  },
  {
   "cell_type": "markdown",
   "metadata": {},
   "source": [
    "**Conclusión.** El modelo obtenido tiene dos objeciones para su aceptación:\n",
    "\n",
    "* El valor de $w_0$ aparentemente no es significativamente diferente de cero.\n",
    "* Hay tres posibles outliers."
   ]
  },
  {
   "cell_type": "markdown",
   "metadata": {},
   "source": [
    "## Efecto del ruído cuando hay pocos datos"
   ]
  },
  {
   "cell_type": "markdown",
   "metadata": {},
   "source": [
    "Cuando existen pocos datos, la estimación del modelo es altamente sensible a los datos usados para su ajuste. En la figura de abajo, se tiene los datos sin ruido (puntos rojos) y la predicción de varios modelos lineales que difieren en los datos de entrenamiento; para variar los datos, se tomaron los valores de $X$ de los puntos rojos y se adicionó ruido aleatorio. Una vez se estimó el nuevo modelo se procedio a graficar su predicción (líneas grises). Como se observa, pequeñas variaciones en $X$ causan cambios muy importantes en el modelo estimado y consecuentemente cambios no despeciables en los pronósticos realizados."
   ]
  },
  {
   "cell_type": "markdown",
   "metadata": {},
   "source": [
    "<img src=\"images/lm-1.jpg\" width=400>"
   ]
  },
  {
   "cell_type": "markdown",
   "metadata": {},
   "source": [
    "## Efecto de outliers"
   ]
  },
  {
   "cell_type": "markdown",
   "metadata": {},
   "source": [
    "Uno de los principales problemas de la regresión lineal es el efecto de los outliers. En la figura de abajo se presenta la recta de regresión lineal estimada para una muestra de diez puntos. En ella se observa que la recta de regresión sigue la tendencia de los puntos."
   ]
  },
  {
   "cell_type": "markdown",
   "metadata": {},
   "source": [
    "<img src=\"images/lm-2.jpg\" width=400>"
   ]
  },
  {
   "cell_type": "markdown",
   "metadata": {},
   "source": [
    "En la siguiente figura se presenta el mismo caso anterior, pero se adicionó un punto en las coordenadas (0, 1), que corresponde a un outlier. En la figura que sigue se observa como la recta de regresión gira hacia el punto."
   ]
  },
  {
   "cell_type": "markdown",
   "metadata": {},
   "source": [
    "<img src=\"images/lm-3.jpg\" width=400>"
   ]
  },
  {
   "cell_type": "markdown",
   "metadata": {},
   "source": [
    "Esto se debe a que en la estimación de los parámetros del modelo de regresión lineal se minimiza la suma de errores al cuadrado:\n",
    "\n",
    "$$\\text{SSE} =\\sum_{i=1}^N (y_i - w_0 - w_1 x_i)^2$$\n",
    "\n",
    "la cual se ve influenciada por valores del error muy grandes, como en el caso de los outliers."
   ]
  },
  {
   "cell_type": "markdown",
   "metadata": {},
   "source": [
    "Para resolver este problema, los parámetros del modelo pueden ser estimados minimizando otras medidas de error, como por ejemplo, la desviación media absoluta:\n",
    "\n",
    "$$\\text{MAD} = \\frac{1}{N} \\sum_{i=1}^N |y_i - w_0 - w_1 x_i|$$"
   ]
  },
  {
   "cell_type": "markdown",
   "metadata": {},
   "source": [
    "---\n",
    "**Ejercicio.--** Estime nuevamente el modelo minimizando la desviación media absoluta.\n",
    "\n",
    "---"
   ]
  },
  {
   "cell_type": "markdown",
   "metadata": {},
   "source": [
    "## Ridge regression"
   ]
  },
  {
   "cell_type": "markdown",
   "metadata": {},
   "source": [
    "En la regresión ridge, se adiciona una penalización asociada al tamaño de los coeficientes de la regresión:\n",
    "\n",
    "$$ \\sum_{i=1}^N (y_i - w_0 - w_1 x_i)^2 + \\alpha * (w_0^2 + w_1^2) $$\n",
    "\n",
    "\n",
    "donde $\\alpha$ es el peso de la penalización."
   ]
  },
  {
   "cell_type": "markdown",
   "metadata": {},
   "source": [
    "---\n",
    "**Ejercicio.--** Para los datos del ejercicio planteado, grafique el pronóstico de diferentes modelos que difieren en el valor usado para $\\alpha$. Explique el efecto de $\\alpha$.\n",
    "\n",
    "---"
   ]
  },
  {
   "cell_type": "markdown",
   "metadata": {},
   "source": [
    "## LASSO"
   ]
  },
  {
   "cell_type": "markdown",
   "metadata": {},
   "source": [
    "En este modelo, el término de penalización es el valor absoluto de los coeficientes del modelo de regresión. Mientras que en la regresión ridge, los coeficientes $w_i$ tienden a ser pequeños, LASSO tiende a llevarlos a cero:\n",
    "\n",
    "\n",
    "$$ \\sum_{i=1}^N (y_i - w_0 - w_1 x_i)^2 + \\alpha * (|w_0| + |w_1|) $$\n"
   ]
  },
  {
   "cell_type": "markdown",
   "metadata": {},
   "source": [
    "## Elastic Net"
   ]
  },
  {
   "cell_type": "markdown",
   "metadata": {},
   "source": [
    "Este modelo combina las penalizaciones de ridge y LASSO en un solo modelo:\n",
    "\n",
    "$$ \\sum_{i=1}^N (y_i - w_0 - w_1 x_i)^2 + \\alpha \\rho * (|w_0| + |w_1|) + \\frac{\\alpha (1 - \\rho)}{2}(w_0^2 + w_1^2)$$\n"
   ]
  },
  {
   "cell_type": "markdown",
   "metadata": {},
   "source": [
    "---\n",
    "**Ejercicio.--** Para los datos del ejercicio planteado, grafique el pronóstico de diferentes modelos que difieren en el valor usado para $\\alpha$ y $\\rho$ usando Elastic Net.\n",
    "\n",
    "---"
   ]
  },
  {
   "cell_type": "markdown",
   "metadata": {},
   "source": [
    "Regresión Lineal\n",
    "===\n",
    "\n",
    "**Juan David Velásquez Henao**  \n",
    "jdvelasq@unal.edu.co   \n",
    "Universidad Nacional de Colombia, Sede Medellín  \n",
    "Facultad de Minas  \n",
    "Medellín, Colombia\n",
    "\n",
    "---"
   ]
  }
 ],
 "metadata": {
  "kernel_info": {
   "name": "python3"
  },
  "kernelspec": {
   "display_name": "R",
   "language": "R",
   "name": "ir"
  },
  "language_info": {
   "codemirror_mode": "r",
   "file_extension": ".r",
   "mimetype": "text/x-r-source",
   "name": "R",
   "pygments_lexer": "r",
   "version": "3.4.4"
  },
  "nteract": {
   "version": "0.7.1"
  },
  "varInspector": {
   "cols": {
    "lenName": 16,
    "lenType": 16,
    "lenVar": 40
   },
   "kernels_config": {
    "python": {
     "delete_cmd_postfix": "",
     "delete_cmd_prefix": "del ",
     "library": "var_list.py",
     "varRefreshCmd": "print(var_dic_list())"
    },
    "r": {
     "delete_cmd_postfix": ") ",
     "delete_cmd_prefix": "rm(",
     "library": "var_list.r",
     "varRefreshCmd": "cat(var_dic_list()) "
    }
   },
   "types_to_exclude": [
    "module",
    "function",
    "builtin_function_or_method",
    "instance",
    "_Feature"
   ],
   "window_display": false
  }
 },
 "nbformat": 4,
 "nbformat_minor": 2
}
